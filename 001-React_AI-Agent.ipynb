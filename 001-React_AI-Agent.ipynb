{
 "cells": [
  {
   "cell_type": "markdown",
   "id": "28f3049d-a855-4d5f-b34d-34564c79d523",
   "metadata": {},
   "source": [
    "# 1.0 Let's Build a ReAct Agent with Python from Scratch\n",
    "\n",
    "## **Introduction**\n",
    "\n",
    "Welcome to this hands-on workshop! In this session, we will build a ReAct-based AI Agent from scratch using Python. The ReAct framework combines reasoning and acting, enabling the creation of intelligent agents that can tackle dynamic tasks. \n",
    "\n",
    "By the end of this workshop, you will:\n",
    "- Build a fully functional ReAct AI agent.\n",
    "- Learn how to incorporate reasoning and actions into the agent’s decision-making process.\n",
    "- Gain hands-on experience in building agents that autonomously interact with dynamic environments.\n",
    "\n",
    "## **Workshop Outline**\n",
    "1. Understand the ReAct framework and its components.\n",
    "2. Develop the core structure of the AI agent.\n",
    "3. Implement reasoning and actions within the agent.\n",
    "4. Test the agent's functionality in a practical scenario.\n",
    "\n",
    "🚀 Let's get started and build your first ReAct agent!"
   ]
  },
  {
   "cell_type": "markdown",
   "id": "bee8fd8d-91aa-4400-b680-53b610828734",
   "metadata": {},
   "source": [
    "# Introduction to React Agents\n",
    "\n",
    "## What are React Agents?\n",
    "\n",
    "React (Reasoning + Acting) Agents are a type of AI agent designed to dynamically reason about tasks and take actions based on the environment and available tools. \n",
    "Unlike traditional static AI models, React Agents combine **thought generation** with **action execution**, iteratively refining their decisions using feedback from observations.\n",
    "\n",
    "React Agents are particularly useful in tasks requiring **multi-step reasoning**, **tool usage**, and **adaptive decision-making**, making them ideal for applications such as automated assistants, network configuration, and problem-solving systems.\n",
    "\n",
    "## Key Features of React Agents\n",
    "\n",
    "- **Iterative Thought and Action Loop**: The agent cycles through **thought, action, observation, and reasoning** to improve decision-making.\n",
    "- **Tool Use and Interaction**: It can invoke external tools such as databases, APIs, and computational functions to obtain necessary information.\n",
    "- **Self-Correction and Adaptability**: React Agents refine their approach based on real-time feedback, making them more efficient in complex environments.\n"
   ]
  },
  {
   "cell_type": "markdown",
   "id": "8da77774-56d6-4a84-be91-10643b0ea2d3",
   "metadata": {},
   "source": [
    "![React Agent Diagram](images/react-agent.png)"
   ]
  },
  {
   "cell_type": "markdown",
   "id": "5eccf31e",
   "metadata": {},
   "source": [
    "### **Complete the Following Pre-Requisites**  \n",
    "1. Select the kernel: **\"Python(ai-agent)\"**  \n",
    "2. Perform **Clear all outputs**"
   ]
  },
  {
   "cell_type": "markdown",
   "id": "35657a46-7eb5-40fa-b1bc-1a920bb1207f",
   "metadata": {},
   "source": [
    "### Step 1: Importing Required Libraries and Loading Environment Variables\n",
    "\n",
    "In this first cell, we are setting up the necessary libraries to interact with the OpenAI API and handle environment variables securely. Let’s break down what each line does:\n",
    "\n",
    "1. **Import Libraries**:\n",
    "   - `openai`: The Python client for interacting with the OpenAI API. We’ll use it to send requests to the OpenAI API and generate text completions.\n",
    "   - `re`: A library for working with regular expressions. It helps us manipulate strings and perform complex string matching operations.\n",
    "   - `httpx`: An HTTP client that supports asynchronous requests, useful for making API calls.\n",
    "   - `os`: Provides functions for interacting with the operating system, including working with environment variables.\n",
    "   - `dotenv`: A module to load environment variables from a `.env` file, which is useful for storing sensitive information like API keys securely.\n",
    "\n",
    "2. **Loading Environment Variables**:\n",
    "   - `load_dotenv()`: This function loads variables from a `.env` file into the environment. It allows us to store sensitive information, like our OpenAI API key, outside of the code, keeping it secure and preventing accidental exposure.\n",
    "\n",
    "3. **Importing OpenAI Class**:\n",
    "   - `from openai import OpenAI`: This imports the necessary components from the OpenAI Python client to interact with the API.\n",
    "\n",
    "#### By running this code, we are setting up the tools and configurations required to make requests to the OpenAI API in a secure and efficient manner.\n"
   ]
  },
  {
   "cell_type": "code",
   "execution_count": null,
   "id": "6fb886e7-c293-4b43-9cd4-c9dce7468150",
   "metadata": {},
   "outputs": [],
   "source": [
    "import openai\n",
    "import re\n",
    "import httpx\n",
    "import os\n",
    "from dotenv import load_dotenv\n",
    "_ = load_dotenv()\n",
    "from openai import OpenAI"
   ]
  },
  {
   "cell_type": "markdown",
   "id": "142fe067-7efb-43fc-9725-079d4c7fbd93",
   "metadata": {},
   "source": [
    "### Step 2: Testing LLM Calls\n",
    "\n",
    "Now, we are testing whether our LLM (Large Language Model) calls are working. This step sends a simple message to the OpenAI API and retrieves the response.\n",
    "\n",
    "1. **Creating the OpenAI Client**:\n",
    "   - `client = OpenAI()`: This line initializes the OpenAI client, which will be used to interact with the OpenAI API.\n",
    "\n",
    "2. **Sending a Chat Message**:\n",
    "   - `chat_completion = client.chat.completions.create(...)`: This line sends a request to the OpenAI API to generate a response based on the given input. \n",
    "   - Here, we specify:\n",
    "     - `model=\"gpt-3.5-turbo\"`: We choose the GPT-3.5 turbo model, which is optimized for chat and conversational tasks.\n",
    "     - `messages=[{\"role\":\"user\", \"content\":\"Hello world\"}]`: We send a message from the `\"user\"` role with the content `\"Hello world\"`. This is the input that the model will respond to.\n",
    "\n",
    "3. **Extracting the Response**:\n",
    "   - `chat_completion.choices[0].message.content`: This accesses the first choice from the model’s response and retrieves the `content`, which contains the model's generated reply.\n",
    "\n",
    "#### This step ensures that our integration with the OpenAI API is working and that we can successfully send inputs and receive outputs from the model.\n"
   ]
  },
  {
   "cell_type": "code",
   "execution_count": null,
   "id": "3cf99367-1051-4ba4-bf0d-823dcd32a9f7",
   "metadata": {},
   "outputs": [],
   "source": [
    "client = OpenAI()\n",
    "\n",
    "chat_completion = client.chat.completions.create(\n",
    "    model=\"gpt-3.5-turbo\",\n",
    "    messages=[{\"role\":\"user\", \"content\":\"Hello world\"}]\n",
    ")\n",
    "\n",
    "chat_completion.choices[0].message.content\n",
    "    "
   ]
  },
  {
   "cell_type": "markdown",
   "id": "ddc8c844-83d9-4315-9d20-2362337734b2",
   "metadata": {},
   "source": [
    "\n",
    "### Step 3: Building an Agent\n",
    "\n",
    "In this part of the notebook, we are building an `Agent` class, which will interact with the OpenAI API to send and receive messages in a conversational manner. This agent is designed to manage context, handle user input, and generate appropriate responses based on the conversation.\n",
    "\n",
    "1. **Creating the Agent Class**:\n",
    "   - `class Agent:`: We define a class called `Agent`. This will serve as the core structure for managing a conversation with the model.\n",
    "\n",
    "2. **Initialization Method (`__init__`)**:\n",
    "   - The __init__ method initializes the agent with an optional system message for context or instructions. It stores this message in `self.system` and initializes an empty list `self.messages` to hold the conversation. If a system message is provided, it's added to the messages list with the \"system\" role to set up agent behavior or provide context\n",
    "\n",
    "3. **Calling the Agent (`__call__` Method)**:\n",
    "   - The `__call__` method allows the `Agent` class to be used like a function. When called, it adds the user’s message to `self.messages`, invokes the `execute()` method to get a response from the OpenAI API, appends the response to `self.messages` with the `\"assistant\"` role, and returns the assistant's reply.\n",
    "\n",
    "4. **Execute Method (`execute`)**:\n",
    "   - The `execute` method sends the conversation to the OpenAI API and retrieves the assistant's response. It uses the `gpt-4` model with a `temperature` of 0 for focused and predictable replies, and sends the full conversation history. The method then returns the assistant's response.\n"
   ]
  },
  {
   "cell_type": "code",
   "execution_count": null,
   "id": "a39c28e0-b293-4226-8770-60e39f83f8f7",
   "metadata": {},
   "outputs": [],
   "source": [
    "class Agent:\n",
    "    def __init__(self, system=\"\"):\n",
    "        self.system = system\n",
    "        self.messages = []\n",
    "        if self.system:\n",
    "            self.messages.append({\"role\": \"system\", \"content\": system})\n",
    "\n",
    "    def __call__(self, message):\n",
    "        self.messages.append({\"role\": \"user\", \"content\": message})\n",
    "        result = self.execute()\n",
    "        self.messages.append({\"role\": \"assistant\", \"content\": result})\n",
    "        return result\n",
    "\n",
    "    def execute(self):\n",
    "        completion = client.chat.completions.create(\n",
    "                        model=\"gpt-4o\", \n",
    "                        temperature=0,\n",
    "                        messages=self.messages)\n",
    "        return completion.choices[0].message.content\n",
    "    "
   ]
  },
  {
   "cell_type": "markdown",
   "id": "7e3a21b3-8e8e-4218-b75a-21e076112cf8",
   "metadata": {},
   "source": [
    "### Step 4: Structured Problem-Solving Loop for the Agent\n",
    "\n",
    "In this section, we define a **prompt** that guides the agent through a structured problem-solving loop. The agent will run through a sequence of steps to answer a given question, ensuring the process is logical and methodical.\n",
    "\n",
    "1. **The Loop**:\n",
    "   - **Thought**: The agent starts by reflecting on the question it has been asked. This is the agent’s internal step of analyzing what it knows and deciding how to proceed with answering the question.\n",
    "   - **Action**: Based on the thought, the agent will perform one of the available actions. Actions include running calculations or looking up specific information.\n",
    "   - **PAUSE**: After executing an action, the agent pauses and waits for the result, allowing time for the action to complete and provide an output.\n",
    "   - **Observation**: The result of the action is observed and returned to the agent. The observation informs the agent’s next steps.\n",
    "   - **Answer**: Finally, after receiving the observation, the agent uses the information to provide a clear and concise answer to the original question.\n",
    "\n",
    "2. **Available Actions**:\n",
    "   - **calculate**: The agent can perform calculations using Python syntax. For example, `calculate: 4 * 7 / 3` will return the result of this mathematical operation.\n",
    "   - **average_elephant_weight**: This action allows the agent to retrieve the average weight of an elephant species based on the species name. For example, `average_elephant_weight: African Elephant` will return the average weight of an African Elephant.\n",
    "\n",
    "3. **Example Session**:\n",
    "   - **Question**: \"How much does an African Elephant weigh?\"\n",
    "   - **Thought**: The agent decides it needs to look up the weight of the elephant.\n",
    "   - **Action**: The agent performs the action `average_elephant_weight: African Elephant` to find the weight of an African Elephant.\n",
    "   - **PAUSE**: The agent waits for the response from the action.\n",
    "   - **Observation**: The result is received: \"An African Elephant weighs 12,000 lbs.\"\n",
    "   - **Answer**: The agent then outputs: \"An African Elephant weighs 12,000 lbs.\"\n",
    "\n",
    "#### This prompt structure creates a step-by-step framework for the agent to reason, act, pause, and observe in order to arrive at a final answer. It ensures that the agent logically analyzes the problem, executes appropriate actions, and synthesizes the information to generate accurate answers.\n"
   ]
  },
  {
   "cell_type": "code",
   "execution_count": null,
   "id": "4d9df02d-44cc-4ffe-a56c-6767423cf49b",
   "metadata": {},
   "outputs": [],
   "source": [
    "prompt = \"\"\"\n",
    "You run in a loop of Thought, Action, PAUSE, Observation.\n",
    "At the end of the loop you output an Answer.\n",
    "Use Thought to describe your thoughts about the question you have been asked.\n",
    "Use Action to run one of the actions available to you - then return PAUSE.\n",
    "Observation will be the result of running those actions.\n",
    "\n",
    "Your available actions are:\n",
    "\n",
    "calculate:\n",
    "e.g. calculate: 4 * 7 / 3\n",
    "Runs a calculation and returns the number - uses Python so be sure to use floating point syntax if necessary\n",
    "\n",
    "average_elephant_weight:\n",
    "e.g. average_elephant_weight: African Elephant\n",
    "Returns the average weight of an elephant species when given the species name.\n",
    "\n",
    "Example session:\n",
    "\n",
    "Question: How much does an African Elephant weigh?\n",
    "Thought: I should look up the elephant's weight using average_elephant_weight.\n",
    "Action: average_elephant_weight: African Elephant\n",
    "PAUSE\n",
    "\n",
    "You will be called again with this:\n",
    "\n",
    "Observation: An African Elephant weighs 12,000 lbs.\n",
    "\n",
    "You then output:\n",
    "\n",
    "Answer: An African Elephant weighs 12,000 lbs.\n",
    "\"\"\".strip()"
   ]
  },
  {
   "cell_type": "markdown",
   "id": "8c31049e-5e0f-4115-b9c8-c1f9c960bc57",
   "metadata": {},
   "source": [
    "### Step 5: Defining Actions for the Agent\n",
    "\n",
    "1. **`calculate(what)`**:\n",
    "   - Evaluates a mathematical expression passed as a string using Python’s `eval()` function and returns the result.\n",
    "\n",
    "2. **`average_elephant_weight(species)`**:\n",
    "   - Looks up the average weight of an elephant species from a predefined dictionary and returns it. If the species is not found, it returns `\"Unknown elephant species\"`.\n",
    "\n",
    "3. **`known_actions`**:\n",
    "   - A dictionary that maps action names (`\"calculate\"`, `\"average_elephant_weight\"`) to their respective functions, enabling the agent to execute them based on the task.\n",
    "\n",
    "#### These functions define the actions available to the agent, and the `known_actions` dictionary links action names to their implementations.\n"
   ]
  },
  {
   "cell_type": "code",
   "execution_count": null,
   "id": "ecd29eef-8bb8-43ab-9325-96c0a973a1de",
   "metadata": {},
   "outputs": [],
   "source": [
    "def calculate(what):\n",
    "    return eval(what)\n",
    "\n",
    "def average_elephant_weight(species):\n",
    "    weights = {\n",
    "        \"african elephant\": \"An African Elephant weighs 12,000 lbs\",\n",
    "        \"asian elephant\": \"An Asian Elephant weighs 8,800 lbs\",\n",
    "        \"forest elephant\": \"A Forest Elephant weighs 6,000 lbs\",\n",
    "        \"pygmy elephant\": \"A Pygmy Elephant weighs 5,500 lbs\",\n",
    "        \"indian elephant\": \"An Indian Elephant weighs 9,000 lbs\",\n",
    "        \"sumatran elephant\": \"A Sumatran Elephant weighs 6,600 lbs\",\n",
    "        \"sri lankan elephant\": \"A Sri Lankan Elephant weighs 10,000 lbs\"\n",
    "    }\n",
    "    return weights.get(species.lower(), \"Unknown elephant species\")\n",
    "\n",
    "known_actions = {\n",
    "    \"calculate\": calculate,\n",
    "    \"average_elephant_weight\": average_elephant_weight\n",
    "}"
   ]
  },
  {
   "cell_type": "markdown",
   "id": "7d6b1b2d-b6bb-4583-b1b8-7873b1761879",
   "metadata": {},
   "source": [
    "### Step 6: Initializing the Agent and Interacting with the Agent\n",
    "\n",
    "- **`abot = Agent(prompt)`**:\n",
    "   - This line creates an instance of the `Agent` class, named `abot`, and initializes it with the predefined `prompt` that guides the agent’s thought process, actions, and responses.\n",
    "\n",
    "#### The `Agent` instance (`abot`) is now ready to use the defined prompt to interact and perform actions based on user queries.\n",
    "\n",
    "- **`result = abot(\"How much does an African elephant weigh?\")`**:\n",
    "   - This line sends the question \"How much does an African elephant weigh?\" to the `abot` instance (the agent) and stores the response in the `result` variable.\n",
    "\n",
    "- **`print(result)`**:\n",
    "   - This prints the agent’s response, which will include the reasoning and the final answer to the question.\n",
    "\n",
    "#### The agent processes the question, runs the necessary actions, and outputs the answer, which is then printed to the console."
   ]
  },
  {
   "cell_type": "code",
   "execution_count": null,
   "id": "6eb473ca-b4c4-46fb-a1cf-31df0bf6ebf8",
   "metadata": {},
   "outputs": [],
   "source": [
    "abot = Agent(prompt)\n",
    "result = abot(\"How much does a African elephant weigh?\")\n",
    "print(result)"
   ]
  },
  {
   "cell_type": "markdown",
   "id": "9c8c9cb4-7cd0-4085-83a5-fef12250332e",
   "metadata": {},
   "source": [
    "### Summarizing the Agent's Interaction\n",
    "\n",
    "- **`result = average_elephant_weight(\"African Elephant\")`**:\n",
    "   - This line calls the `average_elephant_weight` function with the argument `\"African Elephant\"`, which returns the average weight of an African elephant and stores it in the `result` variable.\n",
    "\n",
    "- **`print(result)`**:\n",
    "   - This prints the result, which is the average weight of the African elephant.\n",
    "\n",
    "- **`next_prompt = \"Observation: {}\".format(result)`**:\n",
    "   - This formats the result into a string and stores it in `next_prompt`, which includes the observation based on the elephant's weight.\n",
    "\n",
    "- **`abot(next_prompt)`**:\n",
    "   - This sends the formatted `next_prompt` to the agent `abot`, allowing it to process the observation and respond accordingly.\n",
    "\n",
    "#### The agent processes the observation and generates a response based on the information provided.\n"
   ]
  },
  {
   "cell_type": "code",
   "execution_count": null,
   "id": "5bfe79ad-17ce-428b-9c03-d6a64b7f0aa6",
   "metadata": {},
   "outputs": [],
   "source": [
    "result = average_elephant_weight(\"African Elephant\")\n",
    "print(result)\n",
    "next_prompt = \"Observation: {}\".format(result)\n",
    "abot(next_prompt)"
   ]
  },
  {
   "cell_type": "markdown",
   "id": "ba36e544-5b71-4ab5-999e-184f7dd6b5d2",
   "metadata": {},
   "source": [
    "#### This code allows you to view the entire conversation history stored in `abot.messages`, which tracks the agent's state and context during the interaction."
   ]
  },
  {
   "cell_type": "code",
   "execution_count": null,
   "id": "1418e9b5-85fa-4b04-8214-983900c3b189",
   "metadata": {},
   "outputs": [],
   "source": [
    "abot.messages"
   ]
  },
  {
   "cell_type": "markdown",
   "id": "a0b55e74-73e7-4d06-afd1-5a9e69d84512",
   "metadata": {},
   "source": [
    "### Step 7: Defining a Regular Expression to Select Action\n",
    "\n",
    "- **`action_re = re.compile(r'^Action: (\\w+): (.*)$')`**:\n",
    "   - This regular expression captures actions in the format `Action: <action_name>: <details>`, extracting the action type and its details for dynamic processing.\n",
    "\n",
    "#### It enables the agent to process different actions based on the captured details.\n"
   ]
  },
  {
   "cell_type": "code",
   "execution_count": null,
   "id": "db2bc2fd-4b66-4b93-a127-d66462fcfe91",
   "metadata": {},
   "outputs": [],
   "source": [
    "action_re = re.compile(r'^Action: (\\w+): (.*)$')   # python regular expression to selection action"
   ]
  },
  {
   "cell_type": "markdown",
   "id": "e6788af5-b456-4c7b-a115-3cb19679cbf8",
   "metadata": {},
   "source": [
    "### Step 8: Defining the `query` Function\n",
    "\n",
    "- **`query(question, max_turns=5)`**:\n",
    "   - This function simulates a conversation with the agent, taking a `question` as input and running up to `max_turns` (default 5) to process the response and actions.\n",
    "   - **Loop**:\n",
    "     - The loop iterates up to `max_turns`. For each iteration, the agent responds to the current `next_prompt`, which initially starts as the question.\n",
    "     - The response (`result`) is printed, and the function looks for actions in the response using the regular expression `action_re`.\n",
    "     - If an action is found, the function runs the corresponding action and retrieves the observation.\n",
    "     - The `next_prompt` is updated with the observation and the loop continues.\n",
    "   - If no action is found, the function exits.\n",
    "\n",
    "#### The `query` function sends a question to the agent, processes the agent's responses and actions, and continues until the maximum number of turns is reached or no actions are left to process.\n"
   ]
  },
  {
   "cell_type": "code",
   "execution_count": null,
   "id": "e668eec9-4ce0-4f2e-8a0d-8817b2f22fae",
   "metadata": {},
   "outputs": [],
   "source": [
    "def query(question, max_turns=5):\n",
    "    i = 0\n",
    "    bot = Agent(prompt)\n",
    "    next_prompt = question\n",
    "    while i < max_turns:\n",
    "        i += 1\n",
    "        result = bot(next_prompt)\n",
    "        print(result)\n",
    "        actions = [\n",
    "            action_re.match(a) \n",
    "            for a in result.split('\\n') \n",
    "            if action_re.match(a)\n",
    "        ]\n",
    "        if actions:\n",
    "            action, action_input = actions[0].groups()\n",
    "            if action not in known_actions:\n",
    "                raise Exception(f\"Unknown action: {action}: {action_input}\")\n",
    "            print(f\" -- running {action} {action_input}\")\n",
    "            observation = known_actions[action](action_input)\n",
    "            print(\"Observation:\", observation)\n",
    "            next_prompt = f\"Observation: {observation}\"\n",
    "        else:\n",
    "            return"
   ]
  },
  {
   "cell_type": "markdown",
   "id": "d9996366-bb46-4c47-848a-4653053a4924",
   "metadata": {},
   "source": [
    "#### The `query` function is used to ask the agent a question about the combined weight of two elephants, and the agent processes the question step-by-step, executing any actions required to compute the answer.\n"
   ]
  },
  {
   "cell_type": "code",
   "execution_count": null,
   "id": "44c727ee-036f-4546-8b94-37fec310f83b",
   "metadata": {},
   "outputs": [],
   "source": [
    "question = \"\"\"I have 2 elephants in the zoo, a African Elephant and a Sri lankan ELephant. \\\n",
    "What is their combined weight\"\"\"\n",
    "query(question)"
   ]
  },
  {
   "cell_type": "markdown",
   "id": "7403b82d-0fec-427e-8e1c-e0b416c3cd16",
   "metadata": {},
   "source": [
    "## Conclusion\n",
    "\n",
    "#### In this tutorial, we learned how to build a simple reactive agent using Python. The agent processes user input through a structured loop of Thought, Action, and Observation, enabling it to reason and perform tasks. We defined actions such as calculations and retrieving specific data (e.g., elephant weights). The agent dynamically interacts with these actions and updates its state to answer complex questions. This approach allows the agent to handle various tasks effectively by combining reasoning with real-time execution of actions.\n"
   ]
  },
  {
   "cell_type": "markdown",
   "id": "d07a8e94",
   "metadata": {},
   "source": [
    "## Reference\n",
    "\n",
    "#### React Agents were first introduced in the paper:\n",
    "\n",
    "**\"ReAct: Synergizing Reasoning and Acting in Language Models\"**  \n",
    "Authors: Shunyu Yao, Jeffrey Zhao, Dian Yu, Nan Du, Izhak Shafran, Thomas L. Griffiths, Karthik Narasimhan  \n",
    "Arxiv: [https://arxiv.org/abs/2210.03629](https://arxiv.org/abs/2210.03629)  \n",
    "\n",
    "#### This paper outlines the principles of React Agents and demonstrates their effectiveness in various reasoning and decision-making tasks."
   ]
  }
 ],
 "metadata": {
  "kernelspec": {
   "display_name": "Python(ai-agent)",
   "language": "python",
   "name": "ai-agent"
  },
  "language_info": {
   "codemirror_mode": {
    "name": "ipython",
    "version": 3
   },
   "file_extension": ".py",
   "mimetype": "text/x-python",
   "name": "python",
   "nbconvert_exporter": "python",
   "pygments_lexer": "ipython3",
   "version": "3.12.8"
  }
 },
 "nbformat": 4,
 "nbformat_minor": 5
}
