{
 "cells": [
  {
   "cell_type": "markdown",
   "metadata": {},
   "source": [
    "# **5.0 Building a Multi-Agent System with Crew AI**\n",
    "\n",
    "## **Introduction**\n",
    "\n",
    "In this workshop, you will learn how to build a **multi-agent system** using **Crew AI** to automate the process of **generating and reviewing Python code**. The goal is to create two collaborative agents: one that generates Python code based on user queries, and another that reviews and improves the code to ensure it follows best practices.\n",
    "\n",
    "## **Workshop Outline:**\n",
    "\n",
    "### Workshop Outline:\n",
    "1. **Set Up Environment**: Install libraries and prepare the system.\n",
    "2. **Initialize OpenAI Client**: Set up OpenAI for code generation.\n",
    "3. **Define Agents**: Create agents for code generation and review.\n",
    "4. **Create Tasks**: Define tasks for the agents to perform.\n",
    "5. **Define the Crew**: Combine agents and tasks into a working crew.\n",
    "6. **Execute with User Input**: Process a user query through the crew.\n",
    "7. **Display Results**: Show the generated code and review feedback.\n",
    "\n",
    "\n",
    "By the end of this workshop, you will have a fully functional multi-agent system that can generate, review, and improve Python code in an automated and efficient manner.\n"
   ]
  },
  {
   "cell_type": "markdown",
   "metadata": {},
   "source": [
    "### **Complete the Following Pre-Requisites**  \n",
    "1. Select the kernel: **\"Python(crew-ai)\"**  \n",
    "2. Perform **Clear all outputs**"
   ]
  },
  {
   "cell_type": "markdown",
   "metadata": {},
   "source": [
    "# Step 1: Set Up and Import Libraries\n",
    "\n",
    "We will import the necessary libraries for the multi-agent system:\n",
    "- **IPython** for displaying outputs in Jupyter.\n",
    "- **OpenAI** for code generation.\n",
    "- **Crew AI** for building agents and tasks."
   ]
  },
  {
   "cell_type": "code",
   "execution_count": null,
   "metadata": {},
   "outputs": [],
   "source": [
    "from IPython.display import display, Markdown, Code\n",
    "# Tool for Code Generation\n",
    "from crewai.tools import BaseTool\n",
    "import openai\n",
    "\n",
    "from crewai import Agent, Task, Crew\n",
    "from openai import OpenAI"
   ]
  },
  {
   "cell_type": "markdown",
   "metadata": {},
   "source": [
    "# Step 2: Initialize the OpenAI Client\n",
    "\n",
    "In this step, we'll initialize the OpenAI client to interact with OpenAI models for code generation and other tasks."
   ]
  },
  {
   "cell_type": "code",
   "execution_count": null,
   "metadata": {},
   "outputs": [],
   "source": [
    "# Initialize the OpenAI client\n",
    "client = OpenAI()"
   ]
  },
  {
   "cell_type": "markdown",
   "metadata": {},
   "source": [
    "# Step 3: Define Code Generator and Code Reviewer Agents\n",
    "\n",
    "We define two agents:\n",
    "- **Code Generator**: Converts user queries into Python code snippets.\n",
    "- **Code Reviewer**: Reviews and improves the generated code for efficiency, readability, and correctness.\n",
    "\n",
    "Both agents are set up with specific roles, goals, and backstories to guide their behavior."
   ]
  },
  {
   "cell_type": "code",
   "execution_count": null,
   "metadata": {},
   "outputs": [],
   "source": [
    "# Code Generator Agent\n",
    "code_generator_agent = Agent(\n",
    "    role=\"Code Generator\",\n",
    "    goal=\"Generate Python code based on user query.\",\n",
    "    backstory=(\n",
    "        \"As the Code Generator, your job is to take user queries \"\n",
    "        \"and turn them into Python code snippets that solve the given problems. \"\n",
    "        \"You have access to a variety of tools to help you create accurate and efficient code.\"\n",
    "    ),\n",
    "    allow_delegation=False,\n",
    "    verbose=True\n",
    ")\n",
    "\n",
    "# Code Reviewer Agent\n",
    "code_reviewer_agent = Agent(\n",
    "    role=\"Code Reviewer\",\n",
    "    goal=\"Review and improve generated Python code.\",\n",
    "    backstory=(\n",
    "        \"As the Code Reviewer, your job is to evaluate the generated Python code for efficiency, readability, \"\n",
    "        \"and correctness. You will suggest improvements and ensure the code follows best practices.\"\n",
    "    ),\n",
    "    allow_delegation=False,\n",
    "    verbose=True\n",
    ")"
   ]
  },
  {
   "cell_type": "markdown",
   "metadata": {},
   "source": [
    "# Step 4: Create Tasks for Agents\n",
    "\n",
    "We define two tasks:\n",
    "- **Generate Code Task**: The Code Generator creates Python code based on the user's query.\n",
    "- **Generate Code Review Task**: The Code Reviewer evaluates the generated code for improvements in efficiency, readability, and correctness.\n",
    "\n",
    "Each task is assigned to the respective agent to execute.\n"
   ]
  },
  {
   "cell_type": "code",
   "execution_count": null,
   "metadata": {},
   "outputs": [],
   "source": [
    "# Create Tasks\n",
    "generate_code_task_instance = Task(\n",
    "        description=(\n",
    "            \"Generate Python code based on the following user query: {customer_query}. \"\n",
    "            \"The code should solve the problem effectively and be efficient.\"\n",
    "        ),\n",
    "        expected_output=(\n",
    "            \"A Python code snippet that solves the problem described in the query. \"\n",
    "            \"The code should be functional, efficient, and easy to understand.\"\n",
    "        ),\n",
    "        # The task uses the generate_code_task function\n",
    "        agent=code_generator_agent\n",
    "    )\n",
    "\n",
    "# Create Tasks\n",
    "generate_code_review_instance = Task(\n",
    "    description=(\n",
    "        \"Review the Python code generated by the Code Generator. \"\n",
    "        \"The review should focus on improving code quality, readability, efficiency, and ensuring best practices. \"\n",
    "        \"Provide suggestions for improvement, and explain why certain changes are necessary.\"\n",
    "    ),\n",
    "    expected_output=(\n",
    "        \"A detailed review of the generated Python code, highlighting areas for improvement, explaining the rationale behind suggestions, \"\n",
    "        \"and ensuring that the code follows best practices for efficiency, readability, and correctness.\"\n",
    "    ),\n",
    "    # The task uses the code reviewer agent to review the generated code\n",
    "    agent=code_reviewer_agent\n",
    ")"
   ]
  },
  {
   "cell_type": "markdown",
   "metadata": {},
   "source": [
    "# Step 5: Define the Crew\n",
    "\n",
    "We define the **Crew**, which includes both the agents and tasks. The crew is responsible for managing the execution of tasks and collaboration between agents."
   ]
  },
  {
   "cell_type": "code",
   "execution_count": null,
   "metadata": {},
   "outputs": [],
   "source": [
    "# Define the Crew\n",
    "crew = Crew(\n",
    "    agents=[code_generator_agent, code_reviewer_agent],\n",
    "    tasks=[generate_code_task_instance, generate_code_review_instance],\n",
    "    verbose=True,\n",
    "    memory=True\n",
    ")"
   ]
  },
  {
   "cell_type": "markdown",
   "metadata": {},
   "source": [
    "# Step 6: Execute the Crew with User Query\n",
    "\n",
    "We take an input from the user to generate Python code. The query is passed to the crew, which will process it by running the tasks assigned to the agents."
   ]
  },
  {
   "cell_type": "code",
   "execution_count": null,
   "metadata": {},
   "outputs": [],
   "source": [
    "# Example user query\n",
    "query = input(\"What kind of code would you like me to write today?\")\n",
    "\n",
    "# Correctly pass the query into the crew task\n",
    "inputs = {\"customer_query\": query}\n",
    "result = crew.kickoff(inputs=inputs)"
   ]
  },
  {
   "cell_type": "markdown",
   "metadata": {},
   "source": [
    "# Step 7: Display Generated Code and Review Feedback\n",
    "\n",
    "We define functions to display the generated code and review feedback:\n",
    "- **Display Generated Code**: Shows the code generated by the Code Generator.\n",
    "- **Display Review Feedback**: Displays the review and suggestions from the Code Reviewer.\n",
    "\n",
    "We then display the generated code."
   ]
  },
  {
   "cell_type": "code",
   "execution_count": null,
   "metadata": {},
   "outputs": [],
   "source": [
    "# Display the generated code as a code block\n",
    "def display_generated_code(generated_code):\n",
    "    display(Markdown(\"### Generated Code\"))\n",
    "    display(Markdown(generated_code))\n",
    "\n",
    "# Display the review feedback as a formatted text\n",
    "def display_review_feedback(review_feedback):\n",
    "    display(Markdown(\"### Code Review Feedback\"))\n",
    "    display(Markdown(review_feedback))\n",
    "    \n",
    "display_generated_code(result.raw)"
   ]
  },
  {
   "cell_type": "markdown",
   "metadata": {},
   "source": [
    "# Conclusion\n",
    "\n",
    "In this workshop, you learned how to build a multi-agent system using Crew AI. You created agents for code generation and review, defined tasks, and set up a collaborative crew. By interacting with the system, you can now generate Python code based on user input and improve the code with feedback.\n",
    "\n",
    "### Next Steps:\n",
    "- Experiment with adding more agents and tasks.\n",
    "- Explore integrating additional tools for enhanced functionality.\n",
    "- Customize agents to handle more complex use cases."
   ]
  }
 ],
 "metadata": {
  "kernelspec": {
   "display_name": "Python(crew-ai)",
   "language": "python",
   "name": "crew-ai"
  },
  "language_info": {
   "codemirror_mode": {
    "name": "ipython",
    "version": 3
   },
   "file_extension": ".py",
   "mimetype": "text/x-python",
   "name": "python",
   "nbconvert_exporter": "python",
   "pygments_lexer": "ipython3",
   "version": "3.12.8"
  }
 },
 "nbformat": 4,
 "nbformat_minor": 2
}
